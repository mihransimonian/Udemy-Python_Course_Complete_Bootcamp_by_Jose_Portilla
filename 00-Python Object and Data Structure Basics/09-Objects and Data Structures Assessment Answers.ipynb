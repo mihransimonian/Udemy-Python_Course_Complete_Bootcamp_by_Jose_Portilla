{
 "cells": [
  {
   "cell_type": "markdown",
   "source": [
    "# Objects and Data Structures Assessment Test"
   ],
   "metadata": {}
  },
  {
   "cell_type": "markdown",
   "source": [
    "## Test your knowledge. \n",
    "\n",
    "** Answer the following questions **"
   ],
   "metadata": {
    "collapsed": true
   }
  },
  {
   "cell_type": "markdown",
   "source": [
    "Write a brief description of all the following Object Types and Data Structures we've learned about: "
   ],
   "metadata": {
    "collapsed": true
   }
  },
  {
   "cell_type": "markdown",
   "source": [
    "Numbers:\n",
    "\n",
    "Strings:\n",
    "\n",
    "Lists:\n",
    "\n",
    "Tuples:\n",
    "\n",
    "Dictionaries:\n"
   ],
   "metadata": {}
  },
  {
   "cell_type": "markdown",
   "source": [
    "## Numbers\n",
    "\n",
    "Write an equation that uses multiplication, division, an exponent, addition, and subtraction that is equal to 100.25.\n",
    "\n",
    "Hint: This is just to test your memory of the basic arithmetic commands, work backwards from 100.25"
   ],
   "metadata": {}
  },
  {
   "cell_type": "code",
   "execution_count": 1,
   "source": [
    "# multiplication\r\n",
    "100.25*1\r\n",
    "\r\n",
    "# division\r\n",
    "100.25/1\r\n",
    "\r\n",
    "# exponent\r\n",
    "100.25**1\r\n",
    "\r\n",
    "# addition\r\n",
    "100.25+0\r\n",
    "\r\n",
    "# subtraction\r\n",
    "100.25-0\r\n",
    "\r\n",
    "# combined\r\n",
    "((100.25*1)/1)**1+0-0"
   ],
   "outputs": [
    {
     "output_type": "execute_result",
     "data": {
      "text/plain": [
       "100.25"
      ]
     },
     "metadata": {},
     "execution_count": 1
    }
   ],
   "metadata": {}
  },
  {
   "cell_type": "markdown",
   "source": [
    "Answer these 3 questions without typing code. Then type code to check your answer.\n",
    "\n",
    "    What is the value of the expression 4 * (6 + 5)\n",
    "    \n",
    "    What is the value of the expression 4 * 6 + 5 \n",
    "    \n",
    "    What is the value of the expression 4 + 6 * 5 "
   ],
   "metadata": {}
  },
  {
   "cell_type": "code",
   "execution_count": 2,
   "source": [
    "# Equation 1 answer: 4 * 11 = 44\r\n",
    "print('4*(6+5) :', 4*(6+5))\r\n",
    "\r\n",
    "# Equation 2 answer: 24 + 5 = 29\r\n",
    "print('4*6+5 :', 4*6+5)\r\n",
    "\r\n",
    "# Equation 3 answer: 4 + 30 = 34\r\n",
    "print('4+6*5 :', 4+6*5)\r\n",
    "\r\n",
    "# Reasoning: mathemitcal rules (BODMAS) follow that [()] go first, than [^], [/ and *] lastly [+ and -]"
   ],
   "outputs": [
    {
     "output_type": "stream",
     "name": "stdout",
     "text": [
      "4*(6+5) : 44\n",
      "4*6+5 : 29\n",
      "4+6*5 : 34\n"
     ]
    }
   ],
   "metadata": {}
  },
  {
   "cell_type": "markdown",
   "source": [
    "What is the *type* of the result of the expression 3 + 1.5 + 4?<br><br>"
   ],
   "metadata": {}
  },
  {
   "cell_type": "code",
   "execution_count": 3,
   "source": [
    "# Not sure why there was no answer box for this question\r\n",
    "# Answer: float type\r\n",
    "\r\n",
    "# Verify float:\r\n",
    "print('the type of (3 + 1.5 + 4):', type(3 + 1.5 + 4))\r\n",
    "\r\n",
    "# Reasoning: 3 + 1.5 + 4 results in 8.5; meaning there is a decimal point, so this should be a float type. If it would be a full number it would be an integer datatype"
   ],
   "outputs": [
    {
     "output_type": "stream",
     "name": "stdout",
     "text": [
      "the type of (3 + 1.5 + 4): <class 'float'>\n"
     ]
    }
   ],
   "metadata": {}
  },
  {
   "cell_type": "markdown",
   "source": [
    "What would you use to find a number’s square root, as well as its square? "
   ],
   "metadata": {}
  },
  {
   "cell_type": "code",
   "execution_count": 4,
   "source": [
    "# Square root answer:\r\n",
    "9**(1/2)\r\n",
    "# Reasoning: in math, a 'nth root' is equal to the exponential value of '1/n'"
   ],
   "outputs": [
    {
     "output_type": "execute_result",
     "data": {
      "text/plain": [
       "3.0"
      ]
     },
     "metadata": {},
     "execution_count": 4
    }
   ],
   "metadata": {}
  },
  {
   "cell_type": "code",
   "execution_count": 5,
   "source": [
    "# Square answer:\r\n",
    "3**2\r\n",
    "# Reasoning: in math exponential value of 2 is the square of a number"
   ],
   "outputs": [
    {
     "output_type": "execute_result",
     "data": {
      "text/plain": [
       "9"
      ]
     },
     "metadata": {},
     "execution_count": 5
    }
   ],
   "metadata": {}
  },
  {
   "cell_type": "markdown",
   "source": [
    "## Strings"
   ],
   "metadata": {}
  },
  {
   "cell_type": "markdown",
   "source": [
    "Given the string 'hello' give an index command that returns 'e'. Enter your code in the cell below:"
   ],
   "metadata": {}
  },
  {
   "cell_type": "code",
   "execution_count": 6,
   "source": [
    "s = 'hello'\r\n",
    "# Print out 'e' using indexing\r\n",
    "\r\n",
    "# Answer:\r\n",
    "print(s[1])\r\n",
    "# Reasoning: indexation starts at zero, so the second letter is equal to index 1"
   ],
   "outputs": [
    {
     "output_type": "stream",
     "name": "stdout",
     "text": [
      "e\n"
     ]
    }
   ],
   "metadata": {}
  },
  {
   "cell_type": "markdown",
   "source": [
    "Reverse the string 'hello' using slicing:"
   ],
   "metadata": {}
  },
  {
   "cell_type": "code",
   "execution_count": 7,
   "source": [
    "s ='hello'\r\n",
    "# Reverse the string using slicing\r\n",
    "\r\n",
    "# Answer:\r\n",
    "print(s[::-1])\r\n",
    "# Reasoning: arithmetic is [start:stop:step]. So by making the step negative, the string is reversed\r\n"
   ],
   "outputs": [
    {
     "output_type": "stream",
     "name": "stdout",
     "text": [
      "olleh\n"
     ]
    }
   ],
   "metadata": {}
  },
  {
   "cell_type": "markdown",
   "source": [
    "Given the string hello, give two methods of producing the letter 'o' using indexing."
   ],
   "metadata": {}
  },
  {
   "cell_type": "code",
   "execution_count": 8,
   "source": [
    "s ='hello'\r\n",
    "# Print out the 'o'\r\n",
    "\r\n",
    "# Method 1 answer:\r\n",
    "print('Method 1:', s[-1])\r\n",
    "\r\n",
    "# Reasoning: index -1 is the last index character number of the string"
   ],
   "outputs": [
    {
     "output_type": "stream",
     "name": "stdout",
     "text": [
      "Method 1: o\n"
     ]
    }
   ],
   "metadata": {}
  },
  {
   "cell_type": "code",
   "execution_count": 33,
   "source": [
    "s ='hello'\r\n",
    "# Print out the 'o'\r\n",
    "\r\n",
    "# Method 2 answer:\r\n",
    "print('Method 2:', s[4:])\r\n",
    "\r\n",
    "# Extra:\r\n",
    "print('Method 3, if there would be more letters:', s[4::1])\r\n",
    "# Using 1 step assures that we will get the 5th (not 4th!) letter and not any more\r\n",
    "print('Method 4, another, more robust solution:', s[(len(s)-1)::1])\r\n",
    "# Method 4 would not make sense to be applied though, as -1 makes more sense than using len"
   ],
   "outputs": [
    {
     "output_type": "stream",
     "name": "stdout",
     "text": [
      "Method 2: o\n",
      "Method 3, if there would be more letters: o\n",
      "Method 4, another, more robust solution: o\n"
     ]
    }
   ],
   "metadata": {}
  },
  {
   "cell_type": "markdown",
   "source": [
    "## Lists"
   ],
   "metadata": {}
  },
  {
   "cell_type": "markdown",
   "source": [
    "Build this list [0,0,0] two separate ways."
   ],
   "metadata": {}
  },
  {
   "cell_type": "code",
   "execution_count": 10,
   "source": [
    "# Method 1 answer:\r\n",
    "mylist = [0,0,0]\r\n",
    "mylist"
   ],
   "outputs": [
    {
     "output_type": "execute_result",
     "data": {
      "text/plain": [
       "[0, 0, 0]"
      ]
     },
     "metadata": {},
     "execution_count": 10
    }
   ],
   "metadata": {}
  },
  {
   "cell_type": "code",
   "execution_count": 11,
   "source": [
    "# Method 2 answer:\r\n",
    "mylist = [0]*3\r\n",
    "mylist"
   ],
   "outputs": [
    {
     "output_type": "execute_result",
     "data": {
      "text/plain": [
       "[0, 0, 0]"
      ]
     },
     "metadata": {},
     "execution_count": 11
    }
   ],
   "metadata": {}
  },
  {
   "cell_type": "markdown",
   "source": [
    "Reassign 'hello' in this nested list to say 'goodbye' instead:"
   ],
   "metadata": {}
  },
  {
   "cell_type": "code",
   "execution_count": 12,
   "source": [
    "list3 = [1,2,[3,4,'hello']]\r\n",
    "# Hello to goobye\r\n",
    "\r\n",
    "# Answer:\r\n",
    "list3[2][2]='Goodbye'\r\n",
    "list3\r\n",
    "# Reasoning: we use indexing to locate the items in a list, as a list item can contain another list, we have two levels of indexation"
   ],
   "outputs": [
    {
     "output_type": "execute_result",
     "data": {
      "text/plain": [
       "[1, 2, [3, 4, 'Goodbye']]"
      ]
     },
     "metadata": {},
     "execution_count": 12
    }
   ],
   "metadata": {}
  },
  {
   "cell_type": "markdown",
   "source": [
    "Sort the list below:"
   ],
   "metadata": {}
  },
  {
   "cell_type": "code",
   "execution_count": 13,
   "source": [
    "list4 = [5,3,4,6,1]\r\n",
    "# Sort the list\r\n",
    "\r\n",
    "# Answer:\r\n",
    "list4.sort()\r\n",
    "print(list4)\r\n",
    "# Reasoning: sorting is an in-place method, no reassignment required"
   ],
   "outputs": [
    {
     "output_type": "stream",
     "name": "stdout",
     "text": [
      "[1, 3, 4, 5, 6]\n"
     ]
    }
   ],
   "metadata": {}
  },
  {
   "cell_type": "markdown",
   "source": [
    "## Dictionaries"
   ],
   "metadata": {}
  },
  {
   "cell_type": "markdown",
   "source": [
    "Using keys and indexing, grab the 'hello' from the following dictionaries:"
   ],
   "metadata": {}
  },
  {
   "cell_type": "code",
   "execution_count": 14,
   "source": [
    "d = {'simple_key':'hello'}\r\n",
    "# Grab 'hello'\r\n",
    "\r\n",
    "# Answer:\r\n",
    "d['simple_key']\r\n",
    "# Reasoning: we get the value by using the key"
   ],
   "outputs": [
    {
     "output_type": "execute_result",
     "data": {
      "text/plain": [
       "'hello'"
      ]
     },
     "metadata": {},
     "execution_count": 14
    }
   ],
   "metadata": {}
  },
  {
   "cell_type": "code",
   "execution_count": 15,
   "source": [
    "d = {'k1':{'k2':'hello'}}\r\n",
    "# Grab 'hello'\r\n",
    "\r\n",
    "# Answer:\r\n",
    "d['k1']['k2']\r\n",
    "# Reasoning: This is a nested dictionary, so we use the nested keys"
   ],
   "outputs": [
    {
     "output_type": "execute_result",
     "data": {
      "text/plain": [
       "'hello'"
      ]
     },
     "metadata": {},
     "execution_count": 15
    }
   ],
   "metadata": {}
  },
  {
   "cell_type": "code",
   "execution_count": 16,
   "source": [
    "# Getting a little tricker\r\n",
    "d = {'k1':[{'nest_key':['this is deep',['hello']]}]}\r\n",
    "# Grab 'hello'\r\n",
    "\r\n",
    "# Answer:\r\n",
    "d['k1'][0]['nest_key'][1][0]\r\n",
    "# Reasoning: Nested dict, in this case multiple datatypes thus different type of calls combined"
   ],
   "outputs": [
    {
     "output_type": "execute_result",
     "data": {
      "text/plain": [
       "'hello'"
      ]
     },
     "metadata": {},
     "execution_count": 16
    }
   ],
   "metadata": {}
  },
  {
   "cell_type": "code",
   "execution_count": 17,
   "source": [
    "# This will be hard and annoying!\r\n",
    "d = {'k1':[1,2,{'k2':['this is tricky',{'tough':[1,2,['hello']]}]}]}\r\n",
    "# Grab 'hello'\r\n",
    "\r\n",
    "# Answer:\r\n",
    "d['k1'][2]['k2'][1]['tough'][2][0]\r\n",
    "# Reasoning: Nested dict, in this case multiple datatypes thus different type of calls combined"
   ],
   "outputs": [
    {
     "output_type": "execute_result",
     "data": {
      "text/plain": [
       "'hello'"
      ]
     },
     "metadata": {},
     "execution_count": 17
    }
   ],
   "metadata": {}
  },
  {
   "cell_type": "markdown",
   "source": [
    "Can you sort a dictionary? Why or why not?<br><br>"
   ],
   "metadata": {}
  },
  {
   "cell_type": "code",
   "execution_count": 18,
   "source": [
    "# Answer: No, a dictionary is unsorted and uses key value"
   ],
   "outputs": [],
   "metadata": {}
  },
  {
   "cell_type": "markdown",
   "source": [
    "## Tuples"
   ],
   "metadata": {}
  },
  {
   "cell_type": "markdown",
   "source": [
    "What is the major difference between tuples and lists?<br><br>"
   ],
   "metadata": {}
  },
  {
   "cell_type": "code",
   "execution_count": 19,
   "source": [
    "# Answer: Tuples are immutable, lists can be changed"
   ],
   "outputs": [],
   "metadata": {}
  },
  {
   "cell_type": "markdown",
   "source": [
    "How do you create a tuple?<br><br>"
   ],
   "metadata": {}
  },
  {
   "cell_type": "code",
   "execution_count": 20,
   "source": [
    "# Answer: \r\n",
    "my_tuple = ()\r\n",
    "my_tuple"
   ],
   "outputs": [
    {
     "output_type": "execute_result",
     "data": {
      "text/plain": [
       "()"
      ]
     },
     "metadata": {},
     "execution_count": 20
    }
   ],
   "metadata": {}
  },
  {
   "cell_type": "markdown",
   "source": [
    "## Sets "
   ],
   "metadata": {}
  },
  {
   "cell_type": "markdown",
   "source": [
    "What is unique about a set?<br><br>"
   ],
   "metadata": {}
  },
  {
   "cell_type": "code",
   "execution_count": 21,
   "source": [
    "# Answer: a set only contains unique values"
   ],
   "outputs": [],
   "metadata": {}
  },
  {
   "cell_type": "markdown",
   "source": [
    "Use a set to find the unique values of the list below:"
   ],
   "metadata": {}
  },
  {
   "cell_type": "code",
   "execution_count": 22,
   "source": [
    "list5 = [1,2,2,33,4,4,11,22,3,3,2]\r\n",
    "\r\n",
    "# Answer:\r\n",
    "set(list5)"
   ],
   "outputs": [
    {
     "output_type": "execute_result",
     "data": {
      "text/plain": [
       "{1, 2, 3, 4, 11, 22, 33}"
      ]
     },
     "metadata": {},
     "execution_count": 22
    }
   ],
   "metadata": {}
  },
  {
   "cell_type": "markdown",
   "source": [
    "## Booleans"
   ],
   "metadata": {}
  },
  {
   "cell_type": "markdown",
   "source": [
    "For the following quiz questions, we will get a preview of comparison operators. In the table below, a=3 and b=4.\n",
    "\n",
    "<table class=\"table table-bordered\">\n",
    "<tr>\n",
    "<th style=\"width:10%\">Operator</th><th style=\"width:45%\">Description</th><th>Example</th>\n",
    "</tr>\n",
    "<tr>\n",
    "<td>==</td>\n",
    "<td>If the values of two operands are equal, then the condition becomes true.</td>\n",
    "<td> (a == b) is not true.</td>\n",
    "</tr>\n",
    "<tr>\n",
    "<td>!=</td>\n",
    "<td>If values of two operands are not equal, then condition becomes true.</td>\n",
    "<td> (a != b) is true.</td>\n",
    "</tr>\n",
    "<tr>\n",
    "<td>&gt;</td>\n",
    "<td>If the value of left operand is greater than the value of right operand, then condition becomes true.</td>\n",
    "<td> (a &gt; b) is not true.</td>\n",
    "</tr>\n",
    "<tr>\n",
    "<td>&lt;</td>\n",
    "<td>If the value of left operand is less than the value of right operand, then condition becomes true.</td>\n",
    "<td> (a &lt; b) is true.</td>\n",
    "</tr>\n",
    "<tr>\n",
    "<td>&gt;=</td>\n",
    "<td>If the value of left operand is greater than or equal to the value of right operand, then condition becomes true.</td>\n",
    "<td> (a &gt;= b) is not true. </td>\n",
    "</tr>\n",
    "<tr>\n",
    "<td>&lt;=</td>\n",
    "<td>If the value of left operand is less than or equal to the value of right operand, then condition becomes true.</td>\n",
    "<td> (a &lt;= b) is true. </td>\n",
    "</tr>\n",
    "</table>"
   ],
   "metadata": {}
  },
  {
   "cell_type": "markdown",
   "source": [
    "What will be the resulting Boolean of the following pieces of code (answer fist then check by typing it in!)"
   ],
   "metadata": {}
  },
  {
   "cell_type": "code",
   "execution_count": 23,
   "source": [
    "# Answer before running cell\r\n",
    "2 > 3 \r\n",
    "\r\n",
    "# Answer: false"
   ],
   "outputs": [
    {
     "output_type": "execute_result",
     "data": {
      "text/plain": [
       "False"
      ]
     },
     "metadata": {},
     "execution_count": 23
    }
   ],
   "metadata": {}
  },
  {
   "cell_type": "code",
   "execution_count": 24,
   "source": [
    "# Answer before running cell\r\n",
    "3 <= 2\r\n",
    "\r\n",
    "# Answer: false"
   ],
   "outputs": [
    {
     "output_type": "execute_result",
     "data": {
      "text/plain": [
       "False"
      ]
     },
     "metadata": {},
     "execution_count": 24
    }
   ],
   "metadata": {}
  },
  {
   "cell_type": "code",
   "execution_count": 25,
   "source": [
    "# Answer before running cell\r\n",
    "3 == 2.0 \r\n",
    "\r\n",
    "# Answer: False"
   ],
   "outputs": [
    {
     "output_type": "execute_result",
     "data": {
      "text/plain": [
       "False"
      ]
     },
     "metadata": {},
     "execution_count": 25
    }
   ],
   "metadata": {}
  },
  {
   "cell_type": "code",
   "execution_count": 26,
   "source": [
    "# Answer before running cell\r\n",
    "3.0 == 3 \r\n",
    "\r\n",
    "# Answer: True"
   ],
   "outputs": [
    {
     "output_type": "execute_result",
     "data": {
      "text/plain": [
       "True"
      ]
     },
     "metadata": {},
     "execution_count": 26
    }
   ],
   "metadata": {}
  },
  {
   "cell_type": "code",
   "execution_count": 27,
   "source": [
    "# Answer before running cell\r\n",
    "4**0.5 != 2 \r\n",
    "\r\n",
    "# Answer: False"
   ],
   "outputs": [
    {
     "output_type": "execute_result",
     "data": {
      "text/plain": [
       "False"
      ]
     },
     "metadata": {},
     "execution_count": 27
    }
   ],
   "metadata": {}
  },
  {
   "cell_type": "markdown",
   "source": [
    "Final Question: What is the boolean output of the cell block below?"
   ],
   "metadata": {}
  },
  {
   "cell_type": "code",
   "execution_count": 28,
   "source": [
    "# two nested lists\r\n",
    "l_one = [1,2,[3,4]]\r\n",
    "l_two = [1,2,{'k1':4}]\r\n",
    "\r\n",
    "# True or False?\r\n",
    "l_one[2][0] >= l_two[2]['k1'] \r\n",
    "\r\n",
    "# Answer: False\r\n",
    "\r\n",
    "# Reasoning:\r\n",
    "# l_one[2][0] # refers to value 3\r\n",
    "# l_two[2]['k1'] # refers to value 4\r\n",
    "# 3 is not bigger or equal to 4"
   ],
   "outputs": [
    {
     "output_type": "execute_result",
     "data": {
      "text/plain": [
       "False"
      ]
     },
     "metadata": {},
     "execution_count": 28
    }
   ],
   "metadata": {}
  },
  {
   "cell_type": "code",
   "execution_count": 29,
   "source": [
    "## Great Job on your first assessment! "
   ],
   "outputs": [],
   "metadata": {}
  }
 ],
 "metadata": {
  "anaconda-cloud": {},
  "kernelspec": {
   "name": "python3",
   "display_name": "Python 3.7.6 64-bit ('base': conda)"
  },
  "language_info": {
   "codemirror_mode": {
    "name": "ipython",
    "version": 3
   },
   "file_extension": ".py",
   "mimetype": "text/x-python",
   "name": "python",
   "nbconvert_exporter": "python",
   "pygments_lexer": "ipython3",
   "version": "3.7.6"
  },
  "interpreter": {
   "hash": "b3ba2566441a7c06988d0923437866b63cedc61552a5af99d1f4fb67d367b25f"
  }
 },
 "nbformat": 4,
 "nbformat_minor": 1
}