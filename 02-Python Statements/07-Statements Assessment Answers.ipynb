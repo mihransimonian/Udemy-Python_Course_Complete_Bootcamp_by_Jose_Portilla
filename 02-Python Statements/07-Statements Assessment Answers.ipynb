{
 "cells": [
  {
   "cell_type": "markdown",
   "source": [
    "# Statements Assessment Test\n",
    "Let's test your knowledge!"
   ],
   "metadata": {
    "collapsed": true
   }
  },
  {
   "cell_type": "markdown",
   "source": [
    "_____\n",
    "**Use <code>for</code>, .split(), and <code>if</code> to create a Statement that will print out words that start with 's':**"
   ],
   "metadata": {}
  },
  {
   "cell_type": "code",
   "execution_count": 1,
   "source": [
    "st = 'Print only the words that start with s in this sentence'"
   ],
   "outputs": [],
   "metadata": {}
  },
  {
   "cell_type": "code",
   "execution_count": 2,
   "source": [
    "st = 'Print only the words that start with s in this sentence'\r\n",
    "# Answer:\r\n",
    "for word in st.split():\r\n",
    "    if word[:1].lower() == 's':\r\n",
    "        print(word)\r\n",
    "\r\n",
    "# Reasoning:\r\n",
    "# st.split(); splits the string using spaces (default valu of method), so we result with the words per index\r\n",
    "# word[:1]; is the stop, which is not included. so we assure only index 0\r\n",
    "# .lower(); assures we will not have to worry about capital letters, making the code more robust"
   ],
   "outputs": [
    {
     "output_type": "stream",
     "name": "stdout",
     "text": [
      "start\n",
      "s\n",
      "sentence\n"
     ]
    }
   ],
   "metadata": {}
  },
  {
   "cell_type": "markdown",
   "source": [
    "______\n",
    "**Use range() to print all the even numbers from 0 to 10.**"
   ],
   "metadata": {}
  },
  {
   "cell_type": "code",
   "execution_count": 3,
   "source": [
    "# Answer 1: for loop\r\n",
    "for num in range(0,11):\r\n",
    "    if num%2 == 0 :\r\n",
    "        print (num)\r\n",
    "\r\n",
    "# Answer 2: One line using a list function\r\n",
    "list(range(0,11,2))\r\n",
    "# Not as robust compared to using num%2\r\n",
    "\r\n",
    "# Reasoning: \r\n",
    "# range(start, stop, step); where stop value is excluded, so it is always +1 compared to the end goal value\r\n",
    "# num%2; gives the result if divised by 2, so if the remained is not 0, this means the value is not evenly divisible"
   ],
   "outputs": [
    {
     "output_type": "stream",
     "name": "stdout",
     "text": [
      "0\n",
      "2\n",
      "4\n",
      "6\n",
      "8\n",
      "10\n"
     ]
    },
    {
     "output_type": "execute_result",
     "data": {
      "text/plain": [
       "[0, 2, 4, 6, 8, 10]"
      ]
     },
     "metadata": {},
     "execution_count": 3
    }
   ],
   "metadata": {}
  },
  {
   "cell_type": "markdown",
   "source": [
    "___\n",
    "**Use a List Comprehension to create a list of all numbers between 1 and 50 that are divisible by 3.**"
   ],
   "metadata": {}
  },
  {
   "cell_type": "code",
   "execution_count": 4,
   "source": [
    "# Answer 1:\r\n",
    "mylist = [num for num in range(1,51) if num%3 == 0]\r\n",
    "print('Answer 1:', mylist)\r\n",
    "\r\n",
    "# Answer 2 (this is the longer version of answer 1):\r\n",
    "mynums = []\r\n",
    "for num in range(1,51):\r\n",
    "    if num%3==0:\r\n",
    "        mynums.append(num)\r\n",
    "print(f'Answer 2: {mynums}')\r\n",
    "# Note: f-strings depends python 3.6, in this case not required, wanted to add to show understanding (PEP 498)\r\n",
    "\r\n",
    "# Reasoning:\r\n",
    "# range(1,51) gives 1 to 50. num%3 divises by 3 and gives remainder. If remainder == 0, means it is divisble by 3\r\n",
    "# list comprehensions are a 'turned around' version of a full for loop\r\n",
    "# list comprehensions are less readable than a full written for loop, make debugging harder especially when it is not your own code!"
   ],
   "outputs": [
    {
     "output_type": "stream",
     "name": "stdout",
     "text": [
      "Answer 1: [3, 6, 9, 12, 15, 18, 21, 24, 27, 30, 33, 36, 39, 42, 45, 48]\n",
      "Answer 2: [3, 6, 9, 12, 15, 18, 21, 24, 27, 30, 33, 36, 39, 42, 45, 48]\n"
     ]
    }
   ],
   "metadata": {}
  },
  {
   "cell_type": "markdown",
   "source": [
    "_____\n",
    "**Go through the string below and if the length of a word is even print \"even!\"**"
   ],
   "metadata": {}
  },
  {
   "cell_type": "code",
   "execution_count": 5,
   "source": [
    "st = 'Print every word in this sentence that has an even number of letters'"
   ],
   "outputs": [],
   "metadata": {}
  },
  {
   "cell_type": "code",
   "execution_count": 6,
   "source": [
    "st = 'Print every word in this sentence that has an even number of letters'\r\n",
    "# Answer:\r\n",
    "for word in st.split():\r\n",
    "    if len(word) %2 ==0:\r\n",
    "        print(f'Even!: {word}')\r\n",
    "\r\n",
    "# Reasoning: See cells above"
   ],
   "outputs": [
    {
     "output_type": "stream",
     "name": "stdout",
     "text": [
      "Even!: word\n",
      "Even!: in\n",
      "Even!: this\n",
      "Even!: sentence\n",
      "Even!: that\n",
      "Even!: an\n",
      "Even!: even\n",
      "Even!: number\n",
      "Even!: of\n"
     ]
    }
   ],
   "metadata": {}
  },
  {
   "cell_type": "markdown",
   "source": [
    "____\n",
    "**Write a program that prints the integers from 1 to 100. But for multiples of three print \"Fizz\" instead of the number, and for the multiples of five print \"Buzz\". For numbers which are multiples of both three and five print \"FizzBuzz\".**"
   ],
   "metadata": {}
  },
  {
   "cell_type": "code",
   "execution_count": 7,
   "source": [
    "# Answer 1:\r\n",
    "mylist= [] # assure clean list\r\n",
    "for num in range(1,101):\r\n",
    "    if (num%3 == 0) and (num%5 == 0):\r\n",
    "        mylist.append('FizzBuzz')\r\n",
    "    elif (num%3 == 0):\r\n",
    "        mylist.append('Fizz')\r\n",
    "    elif (num%5 == 0):\r\n",
    "        mylist.append('Buzz')\r\n",
    "    else:\r\n",
    "        mylist.append(num)\r\n",
    "print('Method 1')\r\n",
    "print(mylist)\r\n",
    "\r\n",
    "print('\\nMethod 2')\r\n",
    "# Answer 2: List comprehension, notice the reduced readability, making debugging harder\r\n",
    "del (mylist) # not required, but want to show how list comprehension reduce code a lot\r\n",
    "mylist = ['FizzBuzz' if ((num%3==0) and (num%5==0)) else 'Fizz' if (num%3==0) else 'Buzz' if (num%5==0) else num for num in range (1,101)]\r\n",
    "print(mylist)"
   ],
   "outputs": [
    {
     "output_type": "stream",
     "name": "stdout",
     "text": [
      "Method 1\n",
      "[1, 2, 'Fizz', 4, 'Buzz', 'Fizz', 7, 8, 'Fizz', 'Buzz', 11, 'Fizz', 13, 14, 'FizzBuzz', 16, 17, 'Fizz', 19, 'Buzz', 'Fizz', 22, 23, 'Fizz', 'Buzz', 26, 'Fizz', 28, 29, 'FizzBuzz', 31, 32, 'Fizz', 34, 'Buzz', 'Fizz', 37, 38, 'Fizz', 'Buzz', 41, 'Fizz', 43, 44, 'FizzBuzz', 46, 47, 'Fizz', 49, 'Buzz', 'Fizz', 52, 53, 'Fizz', 'Buzz', 56, 'Fizz', 58, 59, 'FizzBuzz', 61, 62, 'Fizz', 64, 'Buzz', 'Fizz', 67, 68, 'Fizz', 'Buzz', 71, 'Fizz', 73, 74, 'FizzBuzz', 76, 77, 'Fizz', 79, 'Buzz', 'Fizz', 82, 83, 'Fizz', 'Buzz', 86, 'Fizz', 88, 89, 'FizzBuzz', 91, 92, 'Fizz', 94, 'Buzz', 'Fizz', 97, 98, 'Fizz', 'Buzz']\n",
      "\n",
      "Method 2\n",
      "[1, 2, 'Fizz', 4, 'Buzz', 'Fizz', 7, 8, 'Fizz', 'Buzz', 11, 'Fizz', 13, 14, 'FizzBuzz', 16, 17, 'Fizz', 19, 'Buzz', 'Fizz', 22, 23, 'Fizz', 'Buzz', 26, 'Fizz', 28, 29, 'FizzBuzz', 31, 32, 'Fizz', 34, 'Buzz', 'Fizz', 37, 38, 'Fizz', 'Buzz', 41, 'Fizz', 43, 44, 'FizzBuzz', 46, 47, 'Fizz', 49, 'Buzz', 'Fizz', 52, 53, 'Fizz', 'Buzz', 56, 'Fizz', 58, 59, 'FizzBuzz', 61, 62, 'Fizz', 64, 'Buzz', 'Fizz', 67, 68, 'Fizz', 'Buzz', 71, 'Fizz', 73, 74, 'FizzBuzz', 76, 77, 'Fizz', 79, 'Buzz', 'Fizz', 82, 83, 'Fizz', 'Buzz', 86, 'Fizz', 88, 89, 'FizzBuzz', 91, 92, 'Fizz', 94, 'Buzz', 'Fizz', 97, 98, 'Fizz', 'Buzz']\n"
     ]
    }
   ],
   "metadata": {}
  },
  {
   "cell_type": "markdown",
   "source": [
    "____\n",
    "**Use List Comprehension to create a list of the first letters of every word in the string below:**"
   ],
   "metadata": {}
  },
  {
   "cell_type": "code",
   "execution_count": 8,
   "source": [
    "st = 'Create a list of the first letters of every word in this string'"
   ],
   "outputs": [],
   "metadata": {}
  },
  {
   "cell_type": "code",
   "execution_count": 9,
   "source": [
    "# Answer 1:\r\n",
    "myLetters = [word[0] for word in st.split()]\r\n",
    "print('Method 1')\r\n",
    "print(myLetters)\r\n",
    "\r\n",
    "# Answer 2, just my addition to explain the list comprehension:\r\n",
    "myLetters = []\r\n",
    "for word in st.split():\r\n",
    "    myLetters.append((word[0]))\r\n",
    "print('\\nMethod 2')\r\n",
    "print(myLetters)\r\n",
    "# Notice how much longer the code is, but also how much easier debugging becomes\r\n",
    "\r\n",
    "# Conclusion:\r\n",
    "# There is a trade off, in this case I would use comprehension, just because the code is not complex"
   ],
   "outputs": [
    {
     "output_type": "stream",
     "name": "stdout",
     "text": [
      "Method 1\n",
      "['C', 'a', 'l', 'o', 't', 'f', 'l', 'o', 'e', 'w', 'i', 't', 's']\n",
      "\n",
      "Method 2\n",
      "['C', 'a', 'l', 'o', 't', 'f', 'l', 'o', 'e', 'w', 'i', 't', 's']\n"
     ]
    }
   ],
   "metadata": {}
  },
  {
   "cell_type": "markdown",
   "source": [
    "### Great Job!"
   ],
   "metadata": {}
  }
 ],
 "metadata": {
  "kernelspec": {
   "name": "python3",
   "display_name": "Python 3.7.6 64-bit ('base': conda)"
  },
  "language_info": {
   "codemirror_mode": {
    "name": "ipython",
    "version": 3
   },
   "file_extension": ".py",
   "mimetype": "text/x-python",
   "name": "python",
   "nbconvert_exporter": "python",
   "pygments_lexer": "ipython3",
   "version": "3.7.6"
  },
  "interpreter": {
   "hash": "b3ba2566441a7c06988d0923437866b63cedc61552a5af99d1f4fb67d367b25f"
  }
 },
 "nbformat": 4,
 "nbformat_minor": 1
}