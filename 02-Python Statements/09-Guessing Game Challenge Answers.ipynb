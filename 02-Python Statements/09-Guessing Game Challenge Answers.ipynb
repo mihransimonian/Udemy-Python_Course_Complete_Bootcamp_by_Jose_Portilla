{
 "cells": [
  {
   "cell_type": "markdown",
   "source": [
    "# Guessing Game Challenge\n",
    "\n",
    "Let's use `while` loops to create a guessing game.\n",
    "\n",
    "The Challenge:\n",
    "\n",
    "Write a program that picks a random integer from 1 to 100, and has players guess the number. The rules are:\n",
    "\n",
    "1. If a player's guess is less than 1 or greater than 100, say \"OUT OF BOUNDS\"\n",
    "2. On a player's first turn, if their guess is\n",
    " * within 10 of the number, return \"WARM!\"\n",
    " * further than 10 away from the number, return \"COLD!\"\n",
    "3. On all subsequent turns, if a guess is \n",
    " * closer to the number than the previous guess return \"WARMER!\"\n",
    " * farther from the number than the previous guess, return \"COLDER!\"\n",
    "4. When the player's guess equals the number, tell them they've guessed correctly *and* how many guesses it took!\n",
    "\n",
    "You can try this from scratch, or follow the steps outlined below. A separate Solution notebook has been provided. Good luck!\n"
   ],
   "metadata": {}
  },
  {
   "cell_type": "markdown",
   "source": [
    "#### First, pick a random integer from 1 to 100 using the random module and assign it to a variable\n",
    "\n",
    "Note: `random.randint(a,b)` returns a random integer in range `[a, b]`, including both end points."
   ],
   "metadata": {}
  },
  {
   "cell_type": "code",
   "execution_count": 1,
   "source": [
    "import random\r\n",
    "\r\n",
    "rnum = random.randint(1,100)\r\n",
    "print('A number has been randomly picked')"
   ],
   "outputs": [
    {
     "output_type": "stream",
     "name": "stdout",
     "text": [
      "A number has been randomly picked\n"
     ]
    }
   ],
   "metadata": {}
  },
  {
   "cell_type": "markdown",
   "source": [
    "#### Next, print an introduction to the game and explain the rules"
   ],
   "metadata": {}
  },
  {
   "cell_type": "code",
   "execution_count": 2,
   "source": [
    "print(\"WELCOME TO GUESS ME!\")\r\n",
    "print(\"I'm thinking of a number between 1 and 100\")\r\n",
    "print(\"If your guess is more than 10 away from my number, I'll tell you you're COLD\")\r\n",
    "print(\"If your guess is within 10 of my number, I'll tell you you're WARM\")\r\n",
    "print(\"If your guess is farther than your most recent guess, I'll say you're getting COLDER\")\r\n",
    "print(\"If your guess is closer than your most recent guess, I'll say you're getting WARMER\")\r\n",
    "print(\"LET'S PLAY!\")"
   ],
   "outputs": [
    {
     "output_type": "stream",
     "name": "stdout",
     "text": [
      "WELCOME TO GUESS ME!\n",
      "I'm thinking of a number between 1 and 100\n",
      "If your guess is more than 10 away from my number, I'll tell you you're COLD\n",
      "If your guess is within 10 of my number, I'll tell you you're WARM\n",
      "If your guess is farther than your most recent guess, I'll say you're getting COLDER\n",
      "If your guess is closer than your most recent guess, I'll say you're getting WARMER\n",
      "LET'S PLAY!\n"
     ]
    }
   ],
   "metadata": {}
  },
  {
   "cell_type": "markdown",
   "source": [
    "#### Create a list to store guesses\r\n",
    "\r\n",
    "#Hint: zero is a good placeholder value. It's useful because it evaluates to \"False\""
   ],
   "metadata": {}
  },
  {
   "cell_type": "code",
   "execution_count": 3,
   "source": [
    "guesses = [0]"
   ],
   "outputs": [],
   "metadata": {}
  },
  {
   "cell_type": "markdown",
   "source": [
    "#### Write a `while` loop that asks for a valid guess. Test it a few times to make sure it works."
   ],
   "metadata": {}
  },
  {
   "cell_type": "code",
   "execution_count": 4,
   "source": [
    "while True:\r\n",
    "    # Gather input\r\n",
    "    current_guess = int(input('Please tell me your number between 1 and 100. Your Choice: '))\r\n",
    "        \r\n",
    "    # if outside boundary retry\r\n",
    "    if current_guess < 1 or current_guess >100:\r\n",
    "        print('OUT OF BOUNDS, try again')\r\n",
    "        continue\r\n",
    "    \r\n",
    "    # break out of while loop, just for this box\r\n",
    "    else:\r\n",
    "        print('Inside bounds, stop program')\r\n",
    "        break"
   ],
   "outputs": [
    {
     "output_type": "stream",
     "name": "stdout",
     "text": [
      "OUT OF BOUNDS, try again\n",
      "Inside bounds, stop program\n"
     ]
    }
   ],
   "metadata": {}
  },
  {
   "cell_type": "markdown",
   "source": [
    "#### Write a `while` loop that compares the player's guess to our number. If the player guesses correctly, break from the loop. Otherwise, tell the player if they're warmer or colder, and continue asking for guesses.\n",
    "\n",
    "Some hints:\n",
    "* it may help to sketch out all possible combinations on paper first!\n",
    "* you can use the `abs()` function to find the positive difference between two numbers\n",
    "* if you append all new guesses to the list, then the previous guess is given as `guesses[-2]`"
   ],
   "metadata": {}
  },
  {
   "cell_type": "code",
   "execution_count": 5,
   "source": [
    "import random\r\n",
    "\r\n",
    "rnum = random.randint(1,100)\r\n",
    "guesses = [0]\r\n",
    "\r\n",
    "while True:\r\n",
    "    # Gather input\r\n",
    "    current_guess = int(input('Please tell me your number between 1 and 100. Your Choice: '))\r\n",
    "    \r\n",
    "    # If correct\r\n",
    "    if current_guess == rnum:\r\n",
    "        print(f'Congratulations!, the correct number is: {current_guess} and it took you {len(guesses)} tries to find it!')\r\n",
    "        break\r\n",
    "    \r\n",
    "    # if not correct add to guesses\r\n",
    "    guesses.append(current_guess)\r\n",
    "    \r\n",
    "    # if outside boundary retry\r\n",
    "    if (current_guess < 1) or (current_guess > 100):\r\n",
    "        print('OUT OF BOUNDS, try again')\r\n",
    "        continue\r\n",
    "    \r\n",
    "    # Check if it is closer to the previous check\r\n",
    "    if guesses[-2]:\r\n",
    "        if abs(rnum-current_guess) < abs(rnum-guesses[-2]):\r\n",
    "            print(f\"Warmer, you're current guess is: {current_guess}, whilst the one before was {guesses[-2]}\")\r\n",
    "            continue\r\n",
    "        else:\r\n",
    "            print(f\"Colder, you're current guess is: {current_guess}, whilst the one before was {guesses[-2]}\")\r\n",
    "            continue\r\n",
    "    else:\r\n",
    "        # Check if it close to the random number\r\n",
    "        if abs(rnum-current_guess) <= 10:\r\n",
    "            print(\"Warm, you're current guess is: {a}\".format(a = current_guess)) # using .format, used < python 3.6\r\n",
    "        else:\r\n",
    "            print(\"Cold, you're current guess is: \", current_guess) # even easier than f strings\r\n",
    "\r\n",
    "# Note:\r\n",
    "# Notice my different usages of f strings, formats etc. For coding I'd use just ONE system, not the multiple as above \r\n",
    "# I wanted to show that I am aware of all possibilities, but f-strings should be adviced as it is easiest for people not comfortable in python"
   ],
   "outputs": [
    {
     "output_type": "stream",
     "name": "stdout",
     "text": [
      "Cold, you're current guess is:  1\n",
      "Warmer, you're current guess is: 10, whilst the one before was 1\n",
      "Colder, you're current guess is: 90, whilst the one before was 10\n",
      "Warmer, you're current guess is: 40, whilst the one before was 90\n",
      "Colder, you're current guess is: 50, whilst the one before was 40\n",
      "Warmer, you're current guess is: 30, whilst the one before was 50\n",
      "Colder, you're current guess is: 20, whilst the one before was 30\n",
      "Warmer, you're current guess is: 35, whilst the one before was 20\n",
      "Colder, you're current guess is: 25, whilst the one before was 35\n",
      "Warmer, you're current guess is: 37, whilst the one before was 25\n",
      "Colder, you're current guess is: 38, whilst the one before was 37\n",
      "Warmer, you're current guess is: 36, whilst the one before was 38\n",
      "Warmer, you're current guess is: 34, whilst the one before was 36\n",
      "Congratulations!, the correct number is: 33 and it took you 14 tries to find it!\n"
     ]
    }
   ],
   "metadata": {}
  },
  {
   "cell_type": "markdown",
   "source": [
    "That's it! You've just programmed your first game!\n",
    "\n",
    "In the next section we'll learn how to turn some of these repetitive actions into *functions* that can be called whenever we need them."
   ],
   "metadata": {}
  },
  {
   "cell_type": "markdown",
   "source": [
    "### Good Job!"
   ],
   "metadata": {}
  }
 ],
 "metadata": {
  "kernelspec": {
   "name": "python3",
   "display_name": "Python 3.7.6 64-bit ('base': conda)"
  },
  "language_info": {
   "codemirror_mode": {
    "name": "ipython",
    "version": 3
   },
   "file_extension": ".py",
   "mimetype": "text/x-python",
   "name": "python",
   "nbconvert_exporter": "python",
   "pygments_lexer": "ipython3",
   "version": "3.7.6"
  },
  "interpreter": {
   "hash": "b3ba2566441a7c06988d0923437866b63cedc61552a5af99d1f4fb67d367b25f"
  }
 },
 "nbformat": 4,
 "nbformat_minor": 2
}